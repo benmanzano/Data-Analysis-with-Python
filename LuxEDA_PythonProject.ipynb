{
 "cells": [
  {
   "cell_type": "code",
   "execution_count": 24,
   "id": "835085b4-596a-459d-9363-cdbd166f2f97",
   "metadata": {},
   "outputs": [],
   "source": [
    "\n",
    "import lux\n",
    "lux.config.default_display = \"lux\"\n",
    "\n",
    "import pandas as pd\n",
    "import warnings\n",
    "warnings.simplefilter(action='ignore', category=FutureWarning)\n"
   ]
  },
  {
   "cell_type": "code",
   "execution_count": 39,
   "id": "20458d10-29b6-494e-9ce4-ad49cc634ca2",
   "metadata": {
    "scrolled": false
   },
   "outputs": [
    {
     "name": "stdout",
     "output_type": "stream",
     "text": [
      "ParticipantID: 1 unique types\n",
      "Age: 1 unique types\n",
      "Location: 1 unique types\n",
      "DietType: 1 unique types\n",
      "LocalFoodFrequency: 1 unique types\n",
      "TransportationMode: 1 unique types\n",
      "EnergySource: 1 unique types\n",
      "HomeType: 1 unique types\n",
      "HomeSize: 1 unique types\n",
      "ClothingFrequency: 1 unique types\n",
      "SustainableBrands: 1 unique types\n",
      "EnvironmentalAwareness: 1 unique types\n",
      "CommunityInvolvement: 1 unique types\n",
      "MonthlyElectricityConsumption: 1 unique types\n",
      "MonthlyWaterConsumption: 1 unique types\n",
      "Gender: 1 unique types\n",
      "UsingPlasticProducts: 1 unique types\n",
      "DisposalMethods: 1 unique types\n",
      "PhysicalActivities: 1 unique types\n",
      "Rating: 1 unique types\n"
     ]
    },
    {
     "data": {
      "application/vnd.jupyter.widget-view+json": {
       "model_id": "8c0ae4662a64463ebc5a5709695c5c97",
       "version_major": 2,
       "version_minor": 0
      },
      "text/plain": [
       "Button(description='Toggle Pandas/Lux', layout=Layout(top='5px', width='140px'), style=ButtonStyle())"
      ]
     },
     "metadata": {},
     "output_type": "display_data"
    },
    {
     "data": {
      "application/vnd.jupyter.widget-view+json": {
       "model_id": "f96b24f9ccfd44c797f206bf9961b90d",
       "version_major": 2,
       "version_minor": 0
      },
      "text/plain": [
       "Output()"
      ]
     },
     "metadata": {},
     "output_type": "display_data"
    }
   ],
   "source": [
    "df = pd.read_csv('lifestyle_sustainability_data.csv')\n",
    "\n",
    "\n",
    "df[\"CommunityInvolvement\"] = df[\"CommunityInvolvement\"].fillna(\"Missing\").astype(str)\n",
    "df['PhysicalActivities'] = df['PhysicalActivities'].fillna('Missing').astype(str)\n",
    "for col in df.columns:\n",
    "    print(f\"{col}: {df[col].map(type).nunique()} unique types\")\n",
    "\n",
    "df"
   ]
  },
  {
   "cell_type": "code",
   "execution_count": 27,
   "id": "bb7b7014",
   "metadata": {},
   "outputs": [],
   "source": [
    "string_columns = ['Location',\n",
    "                  'DietType',\n",
    "                  'LocalFoodFrequency',\n",
    "                  'TransportationMode',\n",
    "                  'EnergySource',\n",
    "                  'HomeType',\n",
    "                  'ClothingFrequency',\n",
    "                  'CommunityInvolvement',\n",
    "                  'Gender',\n",
    "                  'UsingPlasticProducts',\n",
    "                  'DisposalMethods',\n",
    "                  'PhysicalActivities']\n",
    "for col in string_columns:\n",
    "    df[col]= df[col].astype(str)"
   ]
  },
  {
   "cell_type": "code",
   "execution_count": null,
   "id": "342b4112",
   "metadata": {},
   "outputs": [],
   "source": []
  },
  {
   "cell_type": "code",
   "execution_count": 28,
   "id": "cf5d1bc2",
   "metadata": {},
   "outputs": [],
   "source": [
    "lux.config.plotting_backend = \"vegalite\""
   ]
  },
  {
   "cell_type": "code",
   "execution_count": 29,
   "id": "8e0db056",
   "metadata": {
    "scrolled": false
   },
   "outputs": [
    {
     "data": {
      "application/vnd.jupyter.widget-view+json": {
       "model_id": "9a309dc387114de4880124c0e6947948",
       "version_major": 2,
       "version_minor": 0
      },
      "text/plain": [
       "Button(description='Toggle Pandas/Lux', layout=Layout(top='5px', width='140px'), style=ButtonStyle())"
      ]
     },
     "metadata": {},
     "output_type": "display_data"
    },
    {
     "data": {
      "application/vnd.jupyter.widget-view+json": {
       "model_id": "7039b84caaca48348c6375f98b1264de",
       "version_major": 2,
       "version_minor": 0
      },
      "text/plain": [
       "Output()"
      ]
     },
     "metadata": {},
     "output_type": "display_data"
    }
   ],
   "source": [
    "df.intent=['UsingPlasticProducts','DisposalMethods']\n",
    "df"
   ]
  },
  {
   "cell_type": "code",
   "execution_count": null,
   "id": "5de0af7c",
   "metadata": {},
   "outputs": [],
   "source": []
  },
  {
   "cell_type": "code",
   "execution_count": null,
   "id": "bdb75882",
   "metadata": {},
   "outputs": [],
   "source": []
  },
  {
   "cell_type": "code",
   "execution_count": 37,
   "id": "9277b174",
   "metadata": {},
   "outputs": [
    {
     "data": {
      "application/vnd.jupyter.widget-view+json": {
       "model_id": "d0ec6478db704e709001b20fd243e05e",
       "version_major": 2,
       "version_minor": 0
      },
      "text/plain": [
       "LuxWidget(recommendations=[{'action': 'Vis List', 'description': 'Shows a vis list defined by the intent', 'vs…"
      ]
     },
     "metadata": {},
     "output_type": "display_data"
    }
   ],
   "source": [
    "df.recommendation['Enhance']"
   ]
  },
  {
   "cell_type": "code",
   "execution_count": null,
   "id": "9b323683",
   "metadata": {},
   "outputs": [],
   "source": []
  }
 ],
 "metadata": {
  "kernelspec": {
   "display_name": "Python (lux_env)",
   "language": "python",
   "name": "lux_env"
  },
  "language_info": {
   "codemirror_mode": {
    "name": "ipython",
    "version": 3
   },
   "file_extension": ".py",
   "mimetype": "text/x-python",
   "name": "python",
   "nbconvert_exporter": "python",
   "pygments_lexer": "ipython3",
   "version": "3.9.21"
  }
 },
 "nbformat": 4,
 "nbformat_minor": 5
}
